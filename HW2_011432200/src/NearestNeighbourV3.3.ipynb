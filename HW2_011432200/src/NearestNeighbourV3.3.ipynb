{
 "cells": [
  {
   "cell_type": "code",
   "execution_count": 1,
   "metadata": {
    "collapsed": false,
    "deletable": true,
    "editable": true
   },
   "outputs": [
    {
     "name": "stderr",
     "output_type": "stream",
     "text": [
      "/usr/local/lib/python3.5/dist-packages/sklearn/cross_validation.py:44: DeprecationWarning: This module was deprecated in version 0.18 in favor of the model_selection module into which all the refactored classes and functions are moved. Also note that the interface of the new CV iterators are different from that of this module. This module will be removed in 0.20.\n",
      "  \"This module will be removed in 0.20.\", DeprecationWarning)\n"
     ]
    }
   ],
   "source": [
    "import numpy as np\n",
    "\n",
    "import scipy as sp\n",
    "from scipy import spatial\n",
    "\n",
    "import matplotlib.pyplot as plt # side-stepping mpl backend\n",
    "\n",
    "from nltk.stem.lancaster import LancasterStemmer\n",
    "\n",
    "from sklearn.metrics.pairwise import cosine_similarity\n",
    "from sklearn.feature_extraction.text import TfidfVectorizer, CountVectorizer\n",
    "from sklearn.metrics import pairwise\n",
    "from sklearn.feature_selection import SelectPercentile, f_classif\n",
    "from sklearn import cross_validation\n",
    "import heapq\n",
    "import string\n",
    "import re\n",
    "\n",
    "from nltk.corpus import stopwords\n",
    "from collections import defaultdict\n",
    "from collections import Counter\n",
    "\n",
    "vectorizer = CountVectorizer()\n",
    "st = LancasterStemmer()"
   ]
  },
  {
   "cell_type": "code",
   "execution_count": 2,
   "metadata": {
    "collapsed": false,
    "deletable": true,
    "editable": true
   },
   "outputs": [
    {
     "name": "stdout",
     "output_type": "stream",
     "text": [
      "18506\n",
      "18506\n",
      "18506\n"
     ]
    }
   ],
   "source": [
    "with open(\"TestData/train.dat\", \"r\") as fh:\n",
    "    #with open(\"TestData/Test/training_out.dat\", \"r\") as fh:\n",
    "    linesOfTrainData = fh.readlines()\n",
    "print(len(linesOfTrainData))\n",
    "\n",
    "#with open(\"TestData/format.dat\", \"r\") as fh:\n",
    "with open(\"TestData/Test/format_out.dat\", \"r\") as fh:\n",
    "    linesOfFormat = fh.readlines()\n",
    "print(len(linesOfFormat))\n",
    "\n",
    "with open(\"TestData/test.dat\", \"r\") as fh:\n",
    "#with open(\"TestData/Test/test_out.dat\", \"r\") as fh:\n",
    "    linesOfTestData = fh.readlines()\n",
    "print(len(linesOfTestData))\n"
   ]
  },
  {
   "cell_type": "code",
   "execution_count": 4,
   "metadata": {
    "collapsed": false,
    "deletable": true,
    "editable": true
   },
   "outputs": [
    {
     "name": "stdout",
     "output_type": "stream",
     "text": [
      "First line before cleanup from Training Data:  +1\tThis book is such a life saver.  It has been so helpful to be able to go back to track trends, answer pediatrician questions, or communicate with each other when you are up at different times of the night with a newborn.  I think it is one of those things that everyone should be required to have before they leave the hospital.  We went through all the pages of the newborn version, then moved to the infant version, and will finish up the second infant book (third total) right as our baby turns 1.  See other things that are must haves for baby at [...]\n",
      "\n",
      "\n",
      "\n",
      "First line after cleanup from Training Data:    book life saver helpful able go back track trends answer pediatrician questions communicate different times night newborn think one things everyone required leave hospital went pages newborn version moved infant version finish second infant book third total right baby turns   see things must haves baby \n"
     ]
    }
   ],
   "source": [
    "##stopwords and stemming for Training\n",
    "\n",
    "print (\"First line before cleanup from Training Data: \",linesOfTrainData[0])\n",
    "\n",
    "stops = set(stopwords.words('english'))\n",
    "\n",
    "linesOfTrainDataAfterPreProcessing=[]\n",
    "for line in linesOfTrainData:\n",
    "    newLine = []\n",
    "    for w in line.split():\n",
    "        if w.lower()not in stops:\n",
    "            newLine.append(w.lower())     #for stopwords\n",
    "            finalLine = \" \".join(newLine)\n",
    "            finalLine = finalLine.replace(w, st.stem(w)) #for stemming\n",
    "            finalLine = finalLine.translate(str.maketrans('','',string.punctuation)) #for punctuation\n",
    "            finalLine = re.sub(\"\\d+\", \" \", finalLine)# for numbers\n",
    "    linesOfTrainDataAfterPreProcessing.append(finalLine)\n",
    "\n",
    "\n",
    "linesOfTrainData = linesOfTrainDataAfterPreProcessing\n",
    "\n",
    "print (\"\\n\\nFirst line after cleanup from Training Data: \",linesOfTrainData[0])"
   ]
  },
  {
   "cell_type": "code",
   "execution_count": 6,
   "metadata": {
    "collapsed": false,
    "deletable": true,
    "editable": true
   },
   "outputs": [
    {
     "name": "stdout",
     "output_type": "stream",
     "text": [
      "First line before cleanup from Testing Data:  Perfect for new parents. We were able to keep track of baby's feeding, sleep and diaper change schedule for the first two and a half months of her life. Made life easier when the doctor would ask questions about habits because we had it all right there!\n",
      "\n",
      "\n",
      "\n",
      "First line after cleanup from Testing Data:  perfect new parents able keep track babys feeding sleep diaper change schedule first two half months life made life easier doctor would ask questions habits right there\n"
     ]
    }
   ],
   "source": [
    "##stopwords and stemming for Training\n",
    "\n",
    "print (\"First line before cleanup from Testing Data: \",linesOfTestData[0])\n",
    "\n",
    "stops = set(stopwords.words('english'))\n",
    "\n",
    "linesOfTestDataAfterPreProcessing=[]\n",
    "for line in linesOfTestData:\n",
    "    newLine = []\n",
    "    for w in line.split():\n",
    "        if w.lower()not in stops:\n",
    "            newLine.append(w.lower())     #for stopwords\n",
    "            finalLine = \" \".join(newLine)\n",
    "            finalLine = finalLine.replace(w, st.stem(w)) #for stemming\n",
    "            finalLine = finalLine.translate(str.maketrans('','',string.punctuation)) #for punctuation\n",
    "            finalLine = re.sub(\"\\d+\", \" \", finalLine)# for numbers\n",
    "    linesOfTestDataAfterPreProcessing.append(finalLine)\n",
    "\n",
    "\n",
    "linesOfTestData = linesOfTestDataAfterPreProcessing\n",
    "\n",
    "print (\"\\n\\nFirst line after cleanup from Testing Data: \",linesOfTestData[0])"
   ]
  },
  {
   "cell_type": "code",
   "execution_count": 7,
   "metadata": {
    "collapsed": false,
    "deletable": true,
    "editable": true
   },
   "outputs": [
    {
     "name": "stdout",
     "output_type": "stream",
     "text": [
      "Number of unique words: 36405.\n"
     ]
    }
   ],
   "source": [
    "# get a frequency count for all words in the Training docs\n",
    "\n",
    "\n",
    "\n",
    "wordsInTrainingSet = set()\n",
    "\n",
    "wordsCountInTrainingSet = Counter()\n",
    "for d in linesOfTrainData:\n",
    "    for w in d.split():\n",
    "        if w == \"+1\" or w == \"-1\":\n",
    "            continue\n",
    "        else:\n",
    "            if w not in wordsInTrainingSet:\n",
    "                wordsInTrainingSet.add(w)\n",
    "                wordsCountInTrainingSet[w]=1\n",
    "            else:\n",
    "                wordsCountInTrainingSet[w] += 1\n",
    "print(\"Number of unique words: %d.\" % len(wordsInTrainingSet))\n",
    "\n",
    "\n"
   ]
  },
  {
   "cell_type": "code",
   "execution_count": 8,
   "metadata": {
    "collapsed": false,
    "deletable": true,
    "editable": true
   },
   "outputs": [
    {
     "name": "stdout",
     "output_type": "stream",
     "text": [
      "7281\n"
     ]
    }
   ],
   "source": [
    "#Top percent of training data \n",
    "top_percentile = 0.2\n",
    "\n",
    "topPercentileOfTraining = wordsCountInTrainingSet.most_common(int(round(len(wordsCountInTrainingSet)*top_percentile)))\n",
    "\n",
    "wordsInTrainingSet2 = set()\n",
    "for word in topPercentileOfTraining:\n",
    "    wordsInTrainingSet2.add(word[0])\n",
    "    \n",
    "print(len(wordsInTrainingSet2))\n"
   ]
  },
  {
   "cell_type": "code",
   "execution_count": 9,
   "metadata": {
    "collapsed": false,
    "deletable": true,
    "editable": true
   },
   "outputs": [
    {
     "name": "stdout",
     "output_type": "stream",
     "text": [
      "Number of unique words: 36355.\n"
     ]
    }
   ],
   "source": [
    "# get a frequency count for all words in the Test docs\n",
    "wordsInTestSet  = set()\n",
    "\n",
    "wordsCountInTestingSet = Counter()\n",
    "\n",
    "for d in linesOfTestData:\n",
    "    for w in d.split():\n",
    "        if w not in wordsInTestSet:\n",
    "            wordsInTestSet.add(w)\n",
    "            wordsCountInTestingSet[w]=1\n",
    "        else:\n",
    "            wordsCountInTestingSet[w] += 1\n",
    "print(\"Number of unique words: %d.\" % len(wordsInTestSet))\n",
    "\n",
    "\n",
    "\n",
    "\n"
   ]
  },
  {
   "cell_type": "code",
   "execution_count": 10,
   "metadata": {
    "collapsed": false,
    "deletable": true,
    "editable": true
   },
   "outputs": [
    {
     "name": "stdout",
     "output_type": "stream",
     "text": [
      "7271\n"
     ]
    }
   ],
   "source": [
    "#Top percent of testing data \n",
    "top_percentile = 0.2\n",
    "\n",
    "topPercentileOfTesting = wordsCountInTestingSet.most_common(int(round(len(wordsCountInTestingSet)*top_percentile)))\n",
    "\n",
    "wordsInTestingSet2 = set()\n",
    "for word in topPercentileOfTesting:\n",
    "    wordsInTestingSet2.add(word[0])\n",
    "    \n",
    "print(len(wordsInTestingSet2))"
   ]
  },
  {
   "cell_type": "code",
   "execution_count": 11,
   "metadata": {
    "collapsed": false,
    "deletable": true,
    "editable": true
   },
   "outputs": [
    {
     "name": "stdout",
     "output_type": "stream",
     "text": [
      "Number of unique words: 6357.\n"
     ]
    }
   ],
   "source": [
    "wordsInSet = set()\n",
    "wordsList= []\n",
    "\n",
    "wordsInSet =  set.intersection(wordsInTrainingSet2,wordsInTestingSet2)\n",
    "wordsList = list(wordsInSet)\n",
    "\n",
    "print(\"Number of unique words: %d.\" % len(wordsInSet))"
   ]
  },
  {
   "cell_type": "code",
   "execution_count": 12,
   "metadata": {
    "collapsed": false,
    "deletable": true,
    "editable": true
   },
   "outputs": [
    {
     "name": "stdout",
     "output_type": "stream",
     "text": [
      "<class 'list'>\n",
      "6357\n"
     ]
    }
   ],
   "source": [
    "from collections import Counter\n",
    "c = Counter(wordsInSet)\n",
    "\n",
    "top_percentile = 1.0 # 0.2 Precentile\n",
    "features = c.most_common(int(round(len(c)*top_percentile)))\n",
    "features_counts = len(features)\n",
    "\n",
    "print(type(features))\n",
    "print(features_counts)\n"
   ]
  },
  {
   "cell_type": "code",
   "execution_count": 13,
   "metadata": {
    "collapsed": false,
    "deletable": true,
    "editable": true
   },
   "outputs": [
    {
     "name": "stdout",
     "output_type": "stream",
     "text": [
      "('installed', 1)\n",
      "1\n"
     ]
    }
   ],
   "source": [
    "#print(features)\n",
    "print(features[:1][0])\n",
    "print(features[:1][0][1])\n",
    "\n",
    "featureList= []\n",
    "\n",
    "\n",
    "for feature in features:\n",
    "    featureList.append(feature[0])\n",
    "    "
   ]
  },
  {
   "cell_type": "code",
   "execution_count": 14,
   "metadata": {
    "collapsed": false,
    "deletable": true,
    "editable": true
   },
   "outputs": [],
   "source": [
    "# #Buid matrix\n",
    "\n",
    "from collections import Counter\n",
    "from scipy.sparse import csr_matrix\n",
    "def build_matrix(docs):\n",
    "    r\"\"\" Build sparse matrix from a list of documents, \n",
    "    each of which is a list of word/terms in the document.  \n",
    "    \"\"\"\n",
    "    dim = len(featureList)\n",
    "    feature_set = set(featureList[:dim])\n",
    "    nrows = len(docs)\n",
    "    idx = {}\n",
    "    tid = 0\n",
    "    nnz = 0\n",
    "    for d in docs:\n",
    "        set_d = set(d)\n",
    "        \n",
    "        d = list(set.intersection(feature_set,set_d))\n",
    "        nnz += len(set(d))\n",
    "        for w in d:\n",
    "            if w not in idx:\n",
    "                idx[w] = tid\n",
    "                tid += 1\n",
    "    ncols = len(idx)\n",
    "        \n",
    "    # set up memory\n",
    "    ind = np.zeros(nnz, dtype=np.int)\n",
    "    val = np.zeros(nnz, dtype=np.double)\n",
    "    ptr = np.zeros(nrows+1, dtype=np.int)\n",
    "    i = 0  # document ID / row counter\n",
    "    n = 0  # non-zero counter\n",
    "    # transfer values\n",
    "    for d in docs:\n",
    "        set_d = set(d)\n",
    "        \n",
    "        d = list(set.intersection(feature_set,set_d))\n",
    "        cnt = Counter(d)\n",
    "        keys = list(k for k,_ in cnt.most_common())\n",
    "        l = len(keys)\n",
    "        for j,k in enumerate(keys):\n",
    "            ind[j+n] = idx[k]\n",
    "            val[j+n] = cnt[k]\n",
    "        ptr[i+1] = ptr[i] + l\n",
    "        n += l\n",
    "        i += 1\n",
    "            \n",
    "    mat = csr_matrix((val, ind, ptr), shape=(nrows, ncols), dtype=np.double)\n",
    "    mat.sort_indices()\n",
    "    \n",
    "    return mat\n",
    "\n",
    "\n",
    "def csr_info(mat, name=\"\", non_empy=False):\n",
    "    r\"\"\" Print out info about this CSR matrix. If non_empy, \n",
    "    report number of non-empty rows and cols as well\n",
    "    \"\"\"\n",
    "    if non_empy:\n",
    "        print(\"%s [nrows %d (%d non-empty), ncols %d (%d non-empty), nnz %d]\" % (\n",
    "                name, mat.shape[0], \n",
    "                sum(1 if mat.indptr[i+1] > mat.indptr[i] else 0 \n",
    "                for i in range(mat.shape[0])), \n",
    "                mat.shape[1], len(np.unique(mat.indices)), \n",
    "                len(mat.data)))\n",
    "    else:\n",
    "        print( \"%s [nrows %d, ncols %d, nnz %d]\" % (name, \n",
    "                mat.shape[0], mat.shape[1], len(mat.data)) )"
   ]
  },
  {
   "cell_type": "code",
   "execution_count": 16,
   "metadata": {
    "collapsed": false,
    "deletable": true,
    "editable": true
   },
   "outputs": [
    {
     "name": "stdout",
     "output_type": "stream",
     "text": [
      " [nrows 18506, ncols 6357, nnz 741757]\n",
      " [nrows 18506, ncols 6357, nnz 739621]\n"
     ]
    }
   ],
   "source": [
    "#print(linesOfTrainData[:1])\n",
    "docslinesOfTrainData = [l.split() for l in linesOfTrainData]\n",
    "matOflinesOfTrainData  = build_matrix(docslinesOfTrainData)\n",
    "csr_info(matOflinesOfTrainData)\n",
    "\n",
    "#print (matOflinesOfTrainData[:1])\n",
    "\n",
    "#print(linesOfTestData[:1])\n",
    "docslinesOfTestData = [l.split() for l in linesOfTestData]\n",
    "matOflinesOfTestData  = build_matrix(docslinesOfTestData)\n",
    "csr_info(matOflinesOfTestData)\n",
    "#print (matOflinesOfTestData[:1])\n",
    "\n"
   ]
  },
  {
   "cell_type": "code",
   "execution_count": 17,
   "metadata": {
    "collapsed": false,
    "deletable": true,
    "editable": true
   },
   "outputs": [],
   "source": [
    "# scale matrix and normalize its rows\n",
    "def csr_idf(mat, copy=False, **kargs):\n",
    "    r\"\"\" Scale a CSR matrix by idf. \n",
    "    Returns scaling factors as dict. If copy is True, \n",
    "    returns scaled matrix and scaling factors.\n",
    "    \"\"\"\n",
    "    if copy is True:\n",
    "        mat = mat.copy()\n",
    "    nrows = mat.shape[0]\n",
    "    nnz = mat.nnz\n",
    "    ind, val, ptr = mat.indices, mat.data, mat.indptr\n",
    "    # document frequency\n",
    "    df = defaultdict(int)\n",
    "    for i in ind:\n",
    "        df[i] += 1\n",
    "    # inverse document frequency\n",
    "    for k,v in df.items():\n",
    "        df[k] = np.log(nrows / float(v))  ## df turns to idf - reusing memory\n",
    "    # scale by idf\n",
    "    for i in range(0, nnz):\n",
    "        val[i] *= df[ind[i]]\n",
    "        \n",
    "    return df if copy is False else mat\n",
    "\n",
    "def csr_l2normalize(mat, copy=False, **kargs):\n",
    "    r\"\"\" Normalize the rows of a CSR matrix by their L-2 norm. \n",
    "    If copy is True, returns a copy of the normalized matrix.\n",
    "    \"\"\"\n",
    "    if copy is True:\n",
    "        mat = mat.copy()\n",
    "    nrows = mat.shape[0]\n",
    "    nnz = mat.nnz\n",
    "    ind, val, ptr = mat.indices, mat.data, mat.indptr\n",
    "    # normalize\n",
    "    for i in range(nrows):\n",
    "        rsum = 0.0    \n",
    "        for j in range(ptr[i], ptr[i+1]):\n",
    "            rsum += val[j]**2\n",
    "        if rsum == 0.0:\n",
    "            continue  # do not normalize empty rows\n",
    "        rsum = 1.0/np.sqrt(rsum)\n",
    "        for j in range(ptr[i], ptr[i+1]):\n",
    "            val[j] *= rsum\n",
    "            \n",
    "    if copy is True:\n",
    "        return mat\n"
   ]
  },
  {
   "cell_type": "code",
   "execution_count": 18,
   "metadata": {
    "collapsed": false,
    "deletable": true,
    "editable": true
   },
   "outputs": [
    {
     "name": "stdout",
     "output_type": "stream",
     "text": [
      "mat1: [[ 0.  0.  0.  0.  0.  0.  0.  0.  0.  0.  0.  0.  0.  0.  0.  0.  0.  0.\n",
      "   0.  0.]] \n",
      "\n",
      "mat2: [[ 0.  0.  0.  0.  0.  0.  0.  0.  0.  0.  0.  0.  0.  0.  0.  0.  0.  0.\n",
      "   0.  0.]] \n",
      "\n",
      "mat3: [[ 0.  0.  0.  0.  0.  0.  0.  0.  0.  0.  0.  0.  0.  0.  0.  0.  0.  0.\n",
      "   0.  0.]]\n"
     ]
    }
   ],
   "source": [
    "mat2linesOfTrainData = csr_idf(matOflinesOfTrainData, copy=True)\n",
    "mat3linesOfTrainData = csr_l2normalize(mat2linesOfTrainData, copy=True)\n",
    "print(\"mat1:\", matOflinesOfTrainData[15,:20].todense(), \"\\n\")\n",
    "print(\"mat2:\", mat2linesOfTrainData[15,:20].todense(), \"\\n\")\n",
    "print(\"mat3:\", mat3linesOfTrainData[15,:20].todense())"
   ]
  },
  {
   "cell_type": "code",
   "execution_count": 19,
   "metadata": {
    "collapsed": false,
    "deletable": true,
    "editable": true
   },
   "outputs": [
    {
     "name": "stdout",
     "output_type": "stream",
     "text": [
      "mat1: [[ 0.  1.  1.  0.  0.  1.  0.  0.  0.  0.  0.  0.  0.  1.  0.  1.  1.  0.\n",
      "   1.  0.]] \n",
      "\n",
      "mat2: [[ 0.          1.31025837  2.71026816  0.          0.          3.75050425\n",
      "   0.          0.          0.          0.          0.          0.          0.\n",
      "   3.01681098  0.          7.11780008  2.34092     0.          2.46193678\n",
      "   0.        ]] \n",
      "\n",
      "mat3: [[ 0.          0.06509744  0.134654    0.          0.          0.18633595\n",
      "   0.          0.          0.          0.          0.          0.          0.\n",
      "   0.14988394  0.          0.35363299  0.11630371  0.          0.12231617\n",
      "   0.        ]]\n"
     ]
    }
   ],
   "source": [
    "\n",
    "mat2linesOfTestData = csr_idf(matOflinesOfTestData, copy=True)\n",
    "mat3linesOfTestData = csr_l2normalize(mat2linesOfTestData, copy=True)\n",
    "print(\"mat1:\", matOflinesOfTestData[15,:20].todense(), \"\\n\")\n",
    "print(\"mat2:\", mat2linesOfTestData[15,:20].todense(), \"\\n\")\n",
    "print(\"mat3:\", mat3linesOfTestData[15,:20].todense())\n",
    "\n"
   ]
  },
  {
   "cell_type": "code",
   "execution_count": 20,
   "metadata": {
    "collapsed": true,
    "deletable": true,
    "editable": true
   },
   "outputs": [],
   "source": [
    "linesOfTrainData_Transformed = mat3linesOfTrainData\n",
    "linesOfTestData_Transformed = mat3linesOfTestData"
   ]
  },
  {
   "cell_type": "code",
   "execution_count": 22,
   "metadata": {
    "collapsed": false,
    "deletable": true,
    "editable": true,
    "scrolled": true
   },
   "outputs": [
    {
     "name": "stdout",
     "output_type": "stream",
     "text": [
      "[['book', 'life', 'saver', 'helpful', 'able', 'go', 'back', 'track', 'trends', 'answer', 'pediatrician', 'questions', 'communicate', 'different', 'times', 'night', 'newborn', 'think', 'one', 'things', 'everyone', 'required', 'leave', 'hospital', 'went', 'pages', 'newborn', 'version', 'moved', 'infant', 'version', 'finish', 'second', 'infant', 'book', 'third', 'total', 'right', 'baby', 'turns', 'see', 'things', 'must', 'haves', 'baby']]\n",
      "-------\n",
      "  (0, 0)\t0.128410879293\n",
      "  (0, 1)\t0.174238594491\n",
      "  (0, 2)\t0.129461452738\n",
      "  (0, 3)\t0.108895242227\n",
      "  (0, 4)\t0.13384089994\n",
      "  (0, 5)\t0.117964958141\n",
      "  (0, 6)\t0.115133026601\n",
      "  (0, 7)\t0.106124899303\n",
      "  (0, 8)\t0.169508361842\n",
      "  (0, 9)\t0.259049892766\n",
      "  (0, 10)\t0.0984793818715\n",
      "  (0, 11)\t0.237913189412\n",
      "  (0, 12)\t0.220694599699\n",
      "  (0, 13)\t0.251089155349\n",
      "  (0, 14)\t0.158443308718\n",
      "  (0, 15)\t0.0463984397886\n",
      "  (0, 16)\t0.13537179031\n",
      "  (0, 17)\t0.0477038364187\n",
      "  (0, 18)\t0.211287506083\n",
      "  (0, 19)\t0.279807488023\n",
      "  (0, 20)\t0.0948526255239\n",
      "  (0, 21)\t0.0940413364635\n",
      "  (0, 22)\t0.180614558748\n",
      "  (0, 23)\t0.158211315937\n",
      "  (0, 24)\t0.183789905185\n",
      "  (0, 25)\t0.113301748286\n",
      "  (0, 26)\t0.184010912177\n",
      "  (0, 27)\t0.14028077118\n",
      "  (0, 28)\t0.196395632972\n",
      "  (0, 29)\t0.202259332453\n",
      "  (0, 30)\t0.102841995676\n",
      "  (0, 31)\t0.171721641479\n",
      "  (0, 32)\t0.178824601641\n",
      "  (0, 33)\t0.197314685329\n",
      "  (0, 34)\t0.225437033823\n",
      "  (0, 35)\t0.0810819360409\n"
     ]
    }
   ],
   "source": [
    "print(docslinesOfTrainData[:1]) \n",
    "print('-------')\n",
    "print(linesOfTrainData_Transformed[:1])"
   ]
  },
  {
   "cell_type": "code",
   "execution_count": 31,
   "metadata": {
    "collapsed": false,
    "deletable": true,
    "editable": true,
    "scrolled": true
   },
   "outputs": [
    {
     "name": "stdout",
     "output_type": "stream",
     "text": [
      "[['perfect', 'new', 'parents', 'able', 'keep', 'track', 'babys', 'feeding', 'sleep', 'diaper', 'change', 'schedule', 'first', 'two', 'half', 'months', 'life', 'made', 'life', 'easier', 'doctor', 'would', 'ask', 'questions', 'habits', 'right', 'there']]\n",
      "-------\n",
      "  (0, 0)\t0.161643018545\n",
      "  (0, 1)\t0.121366821868\n",
      "  (0, 2)\t0.132385703388\n",
      "  (0, 3)\t0.203971980036\n",
      "  (0, 4)\t0.118451939549\n",
      "  (0, 5)\t0.269643545927\n",
      "  (0, 6)\t0.0679313665398\n",
      "  (0, 7)\t0.312069482433\n",
      "  (0, 8)\t0.190435644151\n",
      "  (0, 9)\t0.143417487951\n",
      "  (0, 10)\t0.193502992091\n",
      "  (0, 11)\t0.101951465531\n",
      "  (0, 12)\t0.144135088049\n",
      "  (0, 13)\t0.14051596494\n",
      "  (0, 14)\t0.300731370365\n",
      "  (0, 15)\t0.354112791525\n",
      "  (0, 16)\t0.208927734609\n",
      "  (0, 17)\t0.369027892788\n",
      "  (0, 18)\t0.142709684748\n",
      "  (0, 19)\t0.099374262205\n",
      "  (0, 20)\t0.127641031244\n",
      "  (0, 21)\t0.194447816041\n",
      "  (0, 22)\t0.182004208371\n",
      "  (0, 23)\t0.156408916367\n",
      "  (0, 24)\t0.168756317623\n"
     ]
    }
   ],
   "source": [
    "\n",
    "print(docslinesOfTestData[:1])\n",
    "print('-------')\n",
    "print(linesOfTestData_Transformed[:1])"
   ]
  },
  {
   "cell_type": "code",
   "execution_count": 33,
   "metadata": {
    "collapsed": false,
    "deletable": true,
    "editable": true
   },
   "outputs": [],
   "source": [
    "from sklearn.metrics.pairwise import cosine_similarity"
   ]
  },
  {
   "cell_type": "code",
   "execution_count": 34,
   "metadata": {
    "collapsed": true,
    "deletable": true,
    "editable": true
   },
   "outputs": [],
   "source": [
    "\n",
    "def CalculateCosine(vt,vs):\n",
    "        cosineSimilarityValue = cosine_similarity(vt,vs)\n",
    "        return cosineSimilarityValue\n"
   ]
  },
  {
   "cell_type": "code",
   "execution_count": null,
   "metadata": {
    "collapsed": false,
    "deletable": true,
    "editable": true
   },
   "outputs": [],
   "source": [
    "cosineSimilarityValue = CalculateCosine(linesOfTestData_Transformed,linesOfTrainData_Transformed)\n"
   ]
  },
  {
   "cell_type": "code",
   "execution_count": 28,
   "metadata": {
    "collapsed": false,
    "deletable": true,
    "editable": true
   },
   "outputs": [
    {
     "name": "stdout",
     "output_type": "stream",
     "text": [
      "18506\n"
     ]
    }
   ],
   "source": [
    "print(len(cosineSimilarityValue))"
   ]
  },
  {
   "cell_type": "code",
   "execution_count": 31,
   "metadata": {
    "collapsed": false,
    "deletable": true,
    "editable": true,
    "scrolled": true
   },
   "outputs": [
    {
     "name": "stdout",
     "output_type": "stream",
     "text": [
      "count :  18506\n",
      "--The End--\n"
     ]
    }
   ],
   "source": [
    "\n",
    "f = open('TestData/Test/format_out.dat', 'w')\n",
    "count = 0\n",
    "for row in cosineSimilarityValue:\n",
    "\n",
    "    k=72\n",
    "    partitioned_row_byindex = np.argpartition(-row, k)  \n",
    "    similar_index = partitioned_row_byindex[:k]\n",
    "    \n",
    "    neighbourReviewTypeList = []\n",
    "    neighbourReviewTypeNegative = 0\n",
    "    neighbourReviewTypePositive = 0\n",
    "\n",
    "    for index in similar_index:\n",
    "\n",
    "        if linesOfTrainData[index].strip()[0] == '-':\n",
    "            neighbourReviewTypeNegative+=1\n",
    "        elif linesOfTrainData[index].strip()[0] == '+':\n",
    "            neighbourReviewTypePositive+=1\n",
    "            \n",
    "    \n",
    "    if neighbourReviewTypeNegative > neighbourReviewTypePositive:\n",
    "        f.write('-1\\n')\n",
    "        count+=1\n",
    "    else:\n",
    "        f.write('+1\\n')\n",
    "        count+=1\n",
    "\n",
    "print(\"count : \",count)\n",
    "print(\"--The End--\")"
   ]
  },
  {
   "cell_type": "code",
   "execution_count": 32,
   "metadata": {
    "collapsed": false,
    "deletable": true,
    "editable": true
   },
   "outputs": [
    {
     "name": "stdout",
     "output_type": "stream",
     "text": [
      "18506\n"
     ]
    }
   ],
   "source": [
    "#with open(\"TestData/format.dat\", \"r\") as fh:\n",
    "with open(\"TestData/Test/format_out.dat\", \"r\") as fh:\n",
    "    linesOfFormat = fh.readlines()\n",
    "print(len(linesOfFormat))\n"
   ]
  }
 ],
 "metadata": {
  "kernelspec": {
   "display_name": "Python 3",
   "language": "python",
   "name": "python3"
  },
  "language_info": {
   "codemirror_mode": {
    "name": "ipython",
    "version": 3
   },
   "file_extension": ".py",
   "mimetype": "text/x-python",
   "name": "python",
   "nbconvert_exporter": "python",
   "pygments_lexer": "ipython3",
   "version": "3.5.2"
  }
 },
 "nbformat": 4,
 "nbformat_minor": 2
}
