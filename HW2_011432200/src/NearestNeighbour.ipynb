{
 "cells": [
  {
   "cell_type": "code",
   "execution_count": 18,
   "metadata": {
    "collapsed": false
   },
   "outputs": [],
   "source": [
    "#Imports for code\n",
    "import numpy as np\n",
    "import scipy as sp\n",
    "%matplotlib inline\n",
    "import matplotlib.pyplot as plt # side-stepping mpl backend"
   ]
  },
  {
   "cell_type": "code",
   "execution_count": 21,
   "metadata": {
    "collapsed": false
   },
   "outputs": [
    {
     "data": {
      "text/plain": [
       "18506"
      ]
     },
     "execution_count": 21,
     "metadata": {},
     "output_type": "execute_result"
    }
   ],
   "source": [
    "# Train data : open docs file and read its lines\n",
    "with open(\"TestData/train.dat\", \"r\") as fh:\n",
    "    linesOfTrainData = fh.readlines() \n",
    "len(linesOfTrainData)"
   ]
  },
  {
   "cell_type": "code",
   "execution_count": 29,
   "metadata": {
    "collapsed": false
   },
   "outputs": [
    {
     "name": "stdout",
     "output_type": "stream",
     "text": [
      "Train data:\n",
      "Number of docs: 18506.\n",
      "Number of words: 1890428.\n"
     ]
    }
   ],
   "source": [
    "# transform docs into lists of words\n",
    "docsTrain = [l.split() for l in linesOfTrainData]\n",
    "print(\"Train data:\")\n",
    "print(\"Number of docs: %d.\" % len(docsTrain))\n",
    "print(\"Number of words: %d.\" % np.sum([len(d) for d in docsTrain]))"
   ]
  },
  {
   "cell_type": "code",
   "execution_count": 22,
   "metadata": {
    "collapsed": false
   },
   "outputs": [
    {
     "data": {
      "text/plain": [
       "18506"
      ]
     },
     "execution_count": 22,
     "metadata": {},
     "output_type": "execute_result"
    }
   ],
   "source": [
    "# Format data : open docs file and read its lines\n",
    "with open(\"TestData/format.dat\", \"r\") as fh:\n",
    "    linesOfFormat = fh.readlines() \n",
    "len(linesOfFormat)   \n",
    "    "
   ]
  },
  {
   "cell_type": "code",
   "execution_count": 31,
   "metadata": {
    "collapsed": false
   },
   "outputs": [
    {
     "name": "stdout",
     "output_type": "stream",
     "text": [
      "Format data:\n",
      "Number of docs: 18506.\n",
      "Number of words: 18506.\n"
     ]
    }
   ],
   "source": [
    "# transform docs into lists of words\n",
    "docsFormat = [l.split() for l in linesOfFormat]\n",
    "print(\"Format data:\")\n",
    "print(\"Number of docs: %d.\" % len(docsFormat))\n",
    "print(\"Number of words: %d.\" % np.sum([len(d) for d in docsFormat]))"
   ]
  },
  {
   "cell_type": "code",
   "execution_count": 23,
   "metadata": {
    "collapsed": false
   },
   "outputs": [
    {
     "data": {
      "text/plain": [
       "18506"
      ]
     },
     "execution_count": 23,
     "metadata": {},
     "output_type": "execute_result"
    }
   ],
   "source": [
    "# Test Data : open docs file and read its lines\n",
    "with open(\"TestData/test.dat\", \"r\") as fh:\n",
    "    linesOfTest = fh.readlines() \n",
    "len(linesOfTest)"
   ]
  },
  {
   "cell_type": "code",
   "execution_count": 36,
   "metadata": {
    "collapsed": false
   },
   "outputs": [
    {
     "name": "stdout",
     "output_type": "stream",
     "text": [
      "Test data:\n",
      "Number of docs: 18506.\n",
      "Number of words: 1872975.\n"
     ]
    }
   ],
   "source": [
    "# transform docs into lists of words\n",
    "docsTest = [l.split() for l in linesOfTest]\n",
    "print(\"Test data:\")\n",
    "print(\"Number of docs: %d.\" % len(docsTest))\n",
    "print(\"Number of words: %d.\" % np.sum([len(d) for d in docsTest]))"
   ]
  },
  {
   "cell_type": "code",
   "execution_count": 37,
   "metadata": {
    "collapsed": false
   },
   "outputs": [
    {
     "name": "stdout",
     "output_type": "stream",
     "text": [
      "Number of unique words in Training: 76341.\n"
     ]
    }
   ],
   "source": [
    "# get a frequency count for all words in the Training docs\n",
    "wordsInTraining = {}\n",
    "for d in docsTrain:\n",
    "    for w in d:\n",
    "        if w not in wordsInTraining:\n",
    "            wordsInTraining[w] = 1\n",
    "        else:\n",
    "            wordsInTraining[w] += 1\n",
    "print(\"Number of unique words in Training: %d.\" % len(wordsInTraining))"
   ]
  },
  {
   "cell_type": "code",
   "execution_count": 44,
   "metadata": {
    "collapsed": false
   },
   "outputs": [
    {
     "name": "stdout",
     "output_type": "stream",
     "text": [
      "Number of unique words: 75684.\n"
     ]
    }
   ],
   "source": [
    "# get a frequency count for all words in the Test docs\n",
    "wordsInTest = {}\n",
    "for d in docsTest:\n",
    "    for w in d:\n",
    "        if w not in wordsInTest:\n",
    "            wordsInTest[w] = 1\n",
    "        else:\n",
    "            wordsInTest[w] += 1\n",
    "print(\"Number of unique words: %d.\" % len(wordsInTest))"
   ]
  },
  {
   "cell_type": "code",
   "execution_count": 47,
   "metadata": {
    "collapsed": false
   },
   "outputs": [
    {
     "name": "stdout",
     "output_type": "stream",
     "text": [
      "Number of is in Test: 28580.\n",
      "Number of is in Training: 28262.\n"
     ]
    }
   ],
   "source": [
    "print (\"Number of is in Test: %d.\" % wordsInTest['is'])\n",
    "print (\"Number of is in Training: %d.\" % wordsInTraining['is'])\n"
   ]
  },
  {
   "cell_type": "code",
   "execution_count": 58,
   "metadata": {
    "collapsed": false
   },
   "outputs": [
    {
     "name": "stdout",
     "output_type": "stream",
     "text": [
      "Number of docs: 18506.\n",
      "Number of words: 18506.\n",
      "Positive reviews : 0.\n",
      "Negative reviews : 18506.\n"
     ]
    }
   ],
   "source": [
    "#check number of positibe vs negative\n",
    "docsFormat = [l.split() for l in linesOfFormat]\n",
    "print(\"Number of docs: %d.\" % len(docsFormat))\n",
    "print(\"Number of words: %d.\" % np.sum([len(d) for d in docsFormat]))\n",
    "\n",
    "wordsInFormat = {}\n",
    "positiveReview = 0\n",
    "negativeReview = 0\n",
    "for d in docsFormat:\n",
    "    #for w in d:\n",
    "    print(\"Positive reviews : %d.\" % d)\n",
    "        if d is -1:\n",
    "            positiveReview += 1\n",
    "        else:\n",
    "            negativeReview += 1\n",
    "print(\"Positive reviews : %d.\" % positiveReview)\n",
    "print(\"Negative reviews : %d.\" % negativeReview)"
   ]
  },
  {
   "cell_type": "code",
   "execution_count": null,
   "metadata": {
    "collapsed": true
   },
   "outputs": [],
   "source": []
  },
  {
   "cell_type": "code",
   "execution_count": null,
   "metadata": {
    "collapsed": true
   },
   "outputs": [],
   "source": []
  }
 ],
 "metadata": {
  "kernelspec": {
   "display_name": "Python 2",
   "language": "python",
   "name": "python2"
  },
  "language_info": {
   "codemirror_mode": {
    "name": "ipython",
    "version": 2
   },
   "file_extension": ".py",
   "mimetype": "text/x-python",
   "name": "python",
   "nbconvert_exporter": "python",
   "pygments_lexer": "ipython2",
   "version": "2.7.12"
  }
 },
 "nbformat": 4,
 "nbformat_minor": 2
}
