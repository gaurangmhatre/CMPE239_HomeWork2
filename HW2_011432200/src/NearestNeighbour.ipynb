{
 "cells": [
  {
   "cell_type": "code",
   "execution_count": null,
   "metadata": {
    "collapsed": false,
    "deletable": true,
    "editable": true
   },
   "outputs": [],
   "source": [
    "#Imports for code\n",
    "import numpy as np\n",
    "import scipy as sp\n",
    "%matplotlib inline\n",
    "import matplotlib.pyplot as plt # side-stepping mpl backend\n",
    "\n",
    "import nltk\n",
    "from nltk.corpus import stopwords"
   ]
  },
  {
   "cell_type": "code",
   "execution_count": 77,
   "metadata": {
    "collapsed": false,
    "deletable": true,
    "editable": true
   },
   "outputs": [
    {
     "data": {
      "text/plain": [
       "18506"
      ]
     },
     "execution_count": 77,
     "metadata": {},
     "output_type": "execute_result"
    }
   ],
   "source": [
    "# Train data : open docs file and read its lines\n",
    "with open(\"TestData/train.dat\", \"r\") as fh:\n",
    "    linesOfTrainData = fh.readlines() \n",
    "len(linesOfTrainData)"
   ]
  },
  {
   "cell_type": "code",
   "execution_count": 78,
   "metadata": {
    "collapsed": false,
    "deletable": true,
    "editable": true
   },
   "outputs": [
    {
     "name": "stdout",
     "output_type": "stream",
     "text": [
      "Train data:\n",
      "Number of docs: 18506.\n",
      "Number of words: 1890428.\n"
     ]
    }
   ],
   "source": [
    "# transform docs into lists of words\n",
    "docsTrain = [l.split() for l in linesOfTrainData]\n",
    "print(\"Train data:\")\n",
    "print(\"Number of docs: %d.\" % len(docsTrain))\n",
    "print(\"Number of words: %d.\" % np.sum([len(d) for d in docsTrain]))"
   ]
  },
  {
   "cell_type": "code",
   "execution_count": 79,
   "metadata": {
    "collapsed": false,
    "deletable": true,
    "editable": true
   },
   "outputs": [
    {
     "data": {
      "text/plain": [
       "18506"
      ]
     },
     "execution_count": 79,
     "metadata": {},
     "output_type": "execute_result"
    }
   ],
   "source": [
    "# Format data : open docs file and read its lines\n",
    "with open(\"TestData/format.dat\", \"r\") as fh:\n",
    "    linesOfFormat = fh.readlines() \n",
    "len(linesOfFormat)"
   ]
  },
  {
   "cell_type": "code",
   "execution_count": 80,
   "metadata": {
    "collapsed": false,
    "deletable": true,
    "editable": true
   },
   "outputs": [
    {
     "name": "stdout",
     "output_type": "stream",
     "text": [
      "Format data:\n",
      "Number of docs: 18506.\n",
      "Number of words: 18506.\n"
     ]
    }
   ],
   "source": [
    "# transform docs into lists of words\n",
    "docsFormat = [l.split() for l in linesOfFormat]\n",
    "print(\"Format data:\")\n",
    "print(\"Number of docs: %d.\" % len(docsFormat))\n",
    "print(\"Number of words: %d.\" % np.sum([len(d) for d in docsFormat]))"
   ]
  },
  {
   "cell_type": "code",
   "execution_count": 81,
   "metadata": {
    "collapsed": false,
    "deletable": true,
    "editable": true
   },
   "outputs": [
    {
     "data": {
      "text/plain": [
       "18506"
      ]
     },
     "execution_count": 81,
     "metadata": {},
     "output_type": "execute_result"
    }
   ],
   "source": [
    "# Test Data : open docs file and read its lines\n",
    "with open(\"TestData/test.dat\", \"r\") as fh:\n",
    "    linesOfTest = fh.readlines() \n",
    "len(linesOfTest)"
   ]
  },
  {
   "cell_type": "code",
   "execution_count": 82,
   "metadata": {
    "collapsed": false,
    "deletable": true,
    "editable": true
   },
   "outputs": [
    {
     "name": "stdout",
     "output_type": "stream",
     "text": [
      "Test data:\n",
      "Number of docs: 18506.\n",
      "Number of words: 1872975.\n"
     ]
    }
   ],
   "source": [
    "# transform docs into lists of words\n",
    "docsTest = [l.split() for l in linesOfTest]\n",
    "print(\"Test data:\")\n",
    "print(\"Number of docs: %d.\" % len(docsTest))\n",
    "print(\"Number of words: %d.\" % np.sum([len(d) for d in docsTest]))"
   ]
  },
  {
   "cell_type": "code",
   "execution_count": 83,
   "metadata": {
    "collapsed": false,
    "deletable": true,
    "editable": true
   },
   "outputs": [
    {
     "name": "stdout",
     "output_type": "stream",
     "text": [
      "Number of unique words in Training: 76341.\n"
     ]
    }
   ],
   "source": [
    "# get a frequency count for all words in the Training docs\n",
    "wordsInTraining = {}\n",
    "for d in docsTrain:\n",
    "    for w in d:\n",
    "        if w not in wordsInTraining:\n",
    "            wordsInTraining[w] = 1\n",
    "        else:\n",
    "            wordsInTraining[w] += 1\n",
    "print(\"Number of unique words in Training: %d.\" % len(wordsInTraining))"
   ]
  },
  {
   "cell_type": "code",
   "execution_count": 84,
   "metadata": {
    "collapsed": false,
    "deletable": true,
    "editable": true
   },
   "outputs": [
    {
     "name": "stdout",
     "output_type": "stream",
     "text": [
      "Number of unique words: 75684.\n"
     ]
    }
   ],
   "source": [
    "# get a frequency count for all words in the Test docs\n",
    "wordsInTest = {}\n",
    "for d in docsTest:\n",
    "    for w in d:\n",
    "        if w not in wordsInTest:\n",
    "            wordsInTest[w] = 1\n",
    "        else:\n",
    "            wordsInTest[w] += 1\n",
    "print(\"Number of unique words: %d.\" % len(wordsInTest))"
   ]
  },
  {
   "cell_type": "code",
   "execution_count": 85,
   "metadata": {
    "collapsed": false,
    "deletable": true,
    "editable": true
   },
   "outputs": [
    {
     "name": "stdout",
     "output_type": "stream",
     "text": [
      "Number of is in Test: 28580.\n",
      "Number of is in Training: 28262.\n"
     ]
    }
   ],
   "source": [
    "print (\"Number of is in Test: %d.\" % wordsInTest['is'])\n",
    "print (\"Number of is in Training: %d.\" % wordsInTraining['is'])"
   ]
  },
  {
   "cell_type": "code",
   "execution_count": 86,
   "metadata": {
    "collapsed": false,
    "deletable": true,
    "editable": true,
    "scrolled": false
   },
   "outputs": [
    {
     "name": "stdout",
     "output_type": "stream",
     "text": [
      "Number of docs: 18506.\n",
      "Number of words: 18506.\n"
     ]
    }
   ],
   "source": [
    "#check number of positibe vs negative\n",
    "docsFormat = [l.split() for l in linesOfFormat]\n",
    "print(\"Number of docs: %d.\" % len(docsFormat))\n",
    "print(\"Number of words: %d.\" % np.sum([len(d) for d in docsFormat]))"
   ]
  },
  {
   "cell_type": "code",
   "execution_count": 87,
   "metadata": {
    "collapsed": false,
    "deletable": true,
    "editable": true
   },
   "outputs": [
    {
     "name": "stdout",
     "output_type": "stream",
     "text": [
      "Positive reviews : 10000.\n",
      "Negative reviews : 8506.\n"
     ]
    }
   ],
   "source": [
    "positiveReview = 0\n",
    "negativeReview = 0\n",
    "for d in docsFormat:\n",
    "    for w in d:\n",
    "        #print(w)\n",
    "        if w.strip()[0] == '-':\n",
    "            negativeReview += 1\n",
    "        elif w.strip()[0] == '+':\n",
    "            positiveReview += 1\n",
    "        break\n",
    "            \n",
    "print(\"Positive reviews : %d.\" % positiveReview)\n",
    "print(\"Negative reviews : %d.\" % negativeReview)"
   ]
  },
  {
   "cell_type": "code",
   "execution_count": 88,
   "metadata": {
    "collapsed": false,
    "deletable": true,
    "editable": true
   },
   "outputs": [
    {
     "name": "stdout",
     "output_type": "stream",
     "text": [
      "Positive reviews : 10000.\n",
      "Negative reviews : 8506.\n"
     ]
    }
   ],
   "source": [
    "positiveReview = 0\n",
    "negativeReview = 0\n",
    "for d in docsTrain:\n",
    "    for w in d:\n",
    "        #print(w)\n",
    "        if w.strip()[0] == '-':\n",
    "            negativeReview += 1\n",
    "        elif w.strip()[0] == '+':\n",
    "            positiveReview += 1\n",
    "        break\n",
    "            \n",
    "print(\"Positive reviews : %d.\" % positiveReview)\n",
    "print(\"Negative reviews : %d.\" % negativeReview)"
   ]
  },
  {
   "cell_type": "code",
   "execution_count": 89,
   "metadata": {
    "collapsed": false,
    "deletable": true,
    "editable": true
   },
   "outputs": [
    {
     "name": "stdout",
     "output_type": "stream",
     "text": [
      "980380\n"
     ]
    }
   ],
   "source": [
    "#test for stopwords\n",
    "stops = set(stopwords.words('english'))\n",
    "\n",
    "wordCount = 0\n",
    "for line in linesOfTrainData:\n",
    "    for w in line.split():\n",
    "        if w.lower() not in stops:\n",
    "            wordCount+=1\n",
    "            \n",
    "print(wordCount)"
   ]
  },
  {
   "cell_type": "code",
   "execution_count": 90,
   "metadata": {
    "collapsed": false,
    "deletable": true,
    "editable": true
   },
   "outputs": [
    {
     "name": "stdout",
     "output_type": "stream",
     "text": [
      "1890428\n"
     ]
    }
   ],
   "source": [
    "#Total world count\n",
    "wordCount = 0\n",
    "for line in linesOfTrainData:\n",
    "    for w in line.split():\n",
    "            wordCount+=1\n",
    "            \n",
    "print(wordCount)"
   ]
  },
  {
   "cell_type": "code",
   "execution_count": 95,
   "metadata": {
    "collapsed": false,
    "deletable": true,
    "editable": true
   },
   "outputs": [],
   "source": [
    "#test for stopwords\n",
    "stops = set(stopwords.words('english'))\n",
    "\n",
    "for line in linesOfTrainData:\n",
    "    for w in line.split():\n",
    "        if w.lower() in stops:\n",
    "            line = line.replace(w,'')\n",
    "            linesOfTrainDataAfterPreProcessing =line"
   ]
  },
  {
   "cell_type": "code",
   "execution_count": 96,
   "metadata": {
    "collapsed": false,
    "deletable": true,
    "editable": true
   },
   "outputs": [
    {
     "name": "stdout",
     "output_type": "stream",
     "text": [
      "-\n"
     ]
    }
   ],
   "source": [
    "print (linesOfTrainDataAfterPreProcessing[0])"
   ]
  },
  {
   "cell_type": "code",
   "execution_count": null,
   "metadata": {
    "collapsed": false,
    "deletable": true,
    "editable": true
   },
   "outputs": [],
   "source": [
    ""
   ]
  },
  {
   "cell_type": "code",
   "execution_count": null,
   "metadata": {
    "collapsed": false,
    "deletable": true,
    "editable": true
   },
   "outputs": [],
   "source": [
    ""
   ]
  },
  {
   "cell_type": "code",
   "execution_count": null,
   "metadata": {
    "collapsed": true
   },
   "outputs": [],
   "source": [
    ""
   ]
  }
 ],
 "metadata": {
  "kernelspec": {
   "display_name": "Python 3",
   "language": "python",
   "name": "python3"
  },
  "language_info": {
   "codemirror_mode": {
    "name": "ipython",
    "version": 3.0
   },
   "file_extension": ".py",
   "mimetype": "text/x-python",
   "name": "python",
   "nbconvert_exporter": "python",
   "pygments_lexer": "ipython3",
   "version": "3.5.2"
  }
 },
 "nbformat": 4,
 "nbformat_minor": 0
}